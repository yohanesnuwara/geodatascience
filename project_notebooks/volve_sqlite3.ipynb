{
  "nbformat": 4,
  "nbformat_minor": 0,
  "metadata": {
    "colab": {
      "name": "volve_sqlite3.ipynb",
      "provenance": [],
      "collapsed_sections": [],
      "authorship_tag": "ABX9TyOmiy7BHbjOauxjy1cywPNZ",
      "include_colab_link": true
    },
    "kernelspec": {
      "name": "python3",
      "display_name": "Python 3"
    }
  },
  "cells": [
    {
      "cell_type": "markdown",
      "metadata": {
        "id": "view-in-github",
        "colab_type": "text"
      },
      "source": [
        "<a href=\"https://colab.research.google.com/github/yohanesnuwara/geostatistics/blob/main/project_notebooks/volve_sqlite3.ipynb\" target=\"_parent\"><img src=\"https://colab.research.google.com/assets/colab-badge.svg\" alt=\"Open In Colab\"/></a>"
      ]
    },
    {
      "cell_type": "markdown",
      "metadata": {
        "id": "GcB4LAkEbMCF"
      },
      "source": [
        "This notebook tries to demonstrate how to transform a production Excel spreadsheet of Volve field into an SQL database, a format that data scientists mostly work on. This uses SQLite3 in Python.\r\n",
        "\r\n",
        "The spreadsheet contains 2 sheets, \"Daily Production Data\" and \"Monthly Production Data\". The plan is to make these 2 separated sheets into 1 database (relational database). "
      ]
    },
    {
      "cell_type": "code",
      "metadata": {
        "id": "B_xUXsiW7j1e",
        "colab": {
          "base_uri": "https://localhost:8080/"
        },
        "outputId": "f989a343-3f47-44f3-89fd-0c5e2974acdd"
      },
      "source": [
        "!sudo apt-get install -y sqlite3"
      ],
      "execution_count": null,
      "outputs": [
        {
          "output_type": "stream",
          "text": [
            "Reading package lists... Done\n",
            "Building dependency tree       \n",
            "Reading state information... Done\n",
            "sqlite3 is already the newest version (3.22.0-1ubuntu0.4).\n",
            "0 upgraded, 0 newly installed, 0 to remove and 15 not upgraded.\n"
          ],
          "name": "stdout"
        }
      ]
    },
    {
      "cell_type": "code",
      "metadata": {
        "id": "fX3jE_Dc81tE"
      },
      "source": [
        "import numpy as np\r\n",
        "import matplotlib.pyplot as plt\r\n",
        "import pandas as pd\r\n",
        "\r\n",
        "import sqlite3"
      ],
      "execution_count": null,
      "outputs": []
    },
    {
      "cell_type": "code",
      "metadata": {
        "colab": {
          "base_uri": "https://localhost:8080/"
        },
        "id": "5SR0yaj5JgeX",
        "outputId": "370d9489-d303-4dca-c223-60fe3070b5dd"
      },
      "source": [
        "!git clone https://github.com/yohanesnuwara/volve-machine-learning"
      ],
      "execution_count": null,
      "outputs": [
        {
          "output_type": "stream",
          "text": [
            "Cloning into 'volve-machine-learning'...\n",
            "remote: Enumerating objects: 3, done.\u001b[K\n",
            "remote: Counting objects: 100% (3/3), done.\u001b[K\n",
            "remote: Compressing objects: 100% (3/3), done.\u001b[K\n",
            "remote: Total 121 (delta 0), reused 0 (delta 0), pack-reused 118\u001b[K\n",
            "Receiving objects: 100% (121/121), 17.98 MiB | 21.73 MiB/s, done.\n",
            "Resolving deltas: 100% (51/51), done.\n"
          ],
          "name": "stdout"
        }
      ]
    },
    {
      "cell_type": "markdown",
      "metadata": {
        "id": "mUG6suUBnxXi"
      },
      "source": [
        "We need to access to our production dataset in Excel format. A filepath has been defined, it is from a GitHub repository. Then, using Pandas, read the Excel file. We do twice, each for the two sheets `Daily Production Data` & `Monthly Production Data`. Please mind to skip the 2nd row of the 2nd sheet, passing `skiprows=[1]`. "
      ]
    },
    {
      "cell_type": "code",
      "metadata": {
        "colab": {
          "base_uri": "https://localhost:8080/",
          "height": 349
        },
        "id": "PBWF5h_IJm2P",
        "outputId": "29f6ec63-f976-487c-d744-95ae616c0767"
      },
      "source": [
        "# Excel file path from GitHub repository\r\n",
        "filepath = 'https://github.com/yohanesnuwara/volve-machine-learning/raw/main/Volve%20production%20data.xlsx'\r\n",
        "\r\n",
        "# Read the first sheet\r\n",
        "daily_df = pd.read_excel(filepath, sheet_name='Daily Production Data')\r\n",
        "\r\n",
        "# Read the second sheet. Mind to skip the 2nd row. \r\n",
        "month_df = pd.read_excel(filepath, sheet_name='Monthly Production Data', skiprows=[1])\r\n",
        "\r\n",
        "# Overview the two dataframes\r\n",
        "month_df.head(10)"
      ],
      "execution_count": null,
      "outputs": [
        {
          "output_type": "execute_result",
          "data": {
            "text/html": [
              "<div>\n",
              "<style scoped>\n",
              "    .dataframe tbody tr th:only-of-type {\n",
              "        vertical-align: middle;\n",
              "    }\n",
              "\n",
              "    .dataframe tbody tr th {\n",
              "        vertical-align: top;\n",
              "    }\n",
              "\n",
              "    .dataframe thead th {\n",
              "        text-align: right;\n",
              "    }\n",
              "</style>\n",
              "<table border=\"1\" class=\"dataframe\">\n",
              "  <thead>\n",
              "    <tr style=\"text-align: right;\">\n",
              "      <th></th>\n",
              "      <th>Wellbore name</th>\n",
              "      <th>NPDCode</th>\n",
              "      <th>Year</th>\n",
              "      <th>Month</th>\n",
              "      <th>On Stream</th>\n",
              "      <th>Oil</th>\n",
              "      <th>Gas</th>\n",
              "      <th>Water</th>\n",
              "      <th>GI</th>\n",
              "      <th>WI</th>\n",
              "    </tr>\n",
              "  </thead>\n",
              "  <tbody>\n",
              "    <tr>\n",
              "      <th>0</th>\n",
              "      <td>15/9-F-1 C</td>\n",
              "      <td>7405</td>\n",
              "      <td>2014</td>\n",
              "      <td>4</td>\n",
              "      <td>227.50000</td>\n",
              "      <td>11142.47</td>\n",
              "      <td>1597936.65</td>\n",
              "      <td>0.00</td>\n",
              "      <td>NaN</td>\n",
              "      <td>NaN</td>\n",
              "    </tr>\n",
              "    <tr>\n",
              "      <th>1</th>\n",
              "      <td>15/9-F-1 C</td>\n",
              "      <td>7405</td>\n",
              "      <td>2014</td>\n",
              "      <td>5</td>\n",
              "      <td>733.83334</td>\n",
              "      <td>24901.95</td>\n",
              "      <td>3496229.65</td>\n",
              "      <td>783.48</td>\n",
              "      <td>NaN</td>\n",
              "      <td>NaN</td>\n",
              "    </tr>\n",
              "    <tr>\n",
              "      <th>2</th>\n",
              "      <td>15/9-F-1 C</td>\n",
              "      <td>7405</td>\n",
              "      <td>2014</td>\n",
              "      <td>6</td>\n",
              "      <td>705.91666</td>\n",
              "      <td>19617.76</td>\n",
              "      <td>2886661.69</td>\n",
              "      <td>2068.48</td>\n",
              "      <td>NaN</td>\n",
              "      <td>NaN</td>\n",
              "    </tr>\n",
              "    <tr>\n",
              "      <th>3</th>\n",
              "      <td>15/9-F-1 C</td>\n",
              "      <td>7405</td>\n",
              "      <td>2014</td>\n",
              "      <td>7</td>\n",
              "      <td>742.41666</td>\n",
              "      <td>15085.68</td>\n",
              "      <td>2249365.75</td>\n",
              "      <td>6243.98</td>\n",
              "      <td>NaN</td>\n",
              "      <td>NaN</td>\n",
              "    </tr>\n",
              "    <tr>\n",
              "      <th>4</th>\n",
              "      <td>15/9-F-1 C</td>\n",
              "      <td>7405</td>\n",
              "      <td>2014</td>\n",
              "      <td>8</td>\n",
              "      <td>432.99166</td>\n",
              "      <td>6970.43</td>\n",
              "      <td>1048190.80</td>\n",
              "      <td>4529.75</td>\n",
              "      <td>NaN</td>\n",
              "      <td>NaN</td>\n",
              "    </tr>\n",
              "    <tr>\n",
              "      <th>5</th>\n",
              "      <td>15/9-F-1 C</td>\n",
              "      <td>7405</td>\n",
              "      <td>2014</td>\n",
              "      <td>9</td>\n",
              "      <td>630.30000</td>\n",
              "      <td>9168.43</td>\n",
              "      <td>1414099.99</td>\n",
              "      <td>8317.59</td>\n",
              "      <td>NaN</td>\n",
              "      <td>NaN</td>\n",
              "    </tr>\n",
              "    <tr>\n",
              "      <th>6</th>\n",
              "      <td>15/9-F-1 C</td>\n",
              "      <td>7405</td>\n",
              "      <td>2014</td>\n",
              "      <td>10</td>\n",
              "      <td>745.00000</td>\n",
              "      <td>9468.06</td>\n",
              "      <td>1462063.99</td>\n",
              "      <td>10364.87</td>\n",
              "      <td>NaN</td>\n",
              "      <td>NaN</td>\n",
              "    </tr>\n",
              "    <tr>\n",
              "      <th>7</th>\n",
              "      <td>15/9-F-1 C</td>\n",
              "      <td>7405</td>\n",
              "      <td>2014</td>\n",
              "      <td>11</td>\n",
              "      <td>579.77500</td>\n",
              "      <td>6710.33</td>\n",
              "      <td>1044188.30</td>\n",
              "      <td>7234.24</td>\n",
              "      <td>NaN</td>\n",
              "      <td>NaN</td>\n",
              "    </tr>\n",
              "    <tr>\n",
              "      <th>8</th>\n",
              "      <td>15/9-F-1 C</td>\n",
              "      <td>7405</td>\n",
              "      <td>2014</td>\n",
              "      <td>12</td>\n",
              "      <td>27.50000</td>\n",
              "      <td>120.29</td>\n",
              "      <td>25857.08</td>\n",
              "      <td>183.44</td>\n",
              "      <td>NaN</td>\n",
              "      <td>NaN</td>\n",
              "    </tr>\n",
              "    <tr>\n",
              "      <th>9</th>\n",
              "      <td>15/9-F-1 C</td>\n",
              "      <td>7405</td>\n",
              "      <td>2015</td>\n",
              "      <td>1</td>\n",
              "      <td>479.91667</td>\n",
              "      <td>10875.53</td>\n",
              "      <td>1604934.60</td>\n",
              "      <td>6850.80</td>\n",
              "      <td>NaN</td>\n",
              "      <td>NaN</td>\n",
              "    </tr>\n",
              "  </tbody>\n",
              "</table>\n",
              "</div>"
            ],
            "text/plain": [
              "  Wellbore name  NPDCode  Year  Month  ...         Gas     Water  GI  WI\n",
              "0    15/9-F-1 C     7405  2014      4  ...  1597936.65      0.00 NaN NaN\n",
              "1    15/9-F-1 C     7405  2014      5  ...  3496229.65    783.48 NaN NaN\n",
              "2    15/9-F-1 C     7405  2014      6  ...  2886661.69   2068.48 NaN NaN\n",
              "3    15/9-F-1 C     7405  2014      7  ...  2249365.75   6243.98 NaN NaN\n",
              "4    15/9-F-1 C     7405  2014      8  ...  1048190.80   4529.75 NaN NaN\n",
              "5    15/9-F-1 C     7405  2014      9  ...  1414099.99   8317.59 NaN NaN\n",
              "6    15/9-F-1 C     7405  2014     10  ...  1462063.99  10364.87 NaN NaN\n",
              "7    15/9-F-1 C     7405  2014     11  ...  1044188.30   7234.24 NaN NaN\n",
              "8    15/9-F-1 C     7405  2014     12  ...    25857.08    183.44 NaN NaN\n",
              "9    15/9-F-1 C     7405  2015      1  ...  1604934.60   6850.80 NaN NaN\n",
              "\n",
              "[10 rows x 10 columns]"
            ]
          },
          "metadata": {
            "tags": []
          },
          "execution_count": 96
        }
      ]
    },
    {
      "cell_type": "markdown",
      "metadata": {
        "id": "ccqa3n9CqNCh"
      },
      "source": [
        "If we compare both dataframes, we see some column names that shares the same information, have different names."
      ]
    },
    {
      "cell_type": "code",
      "metadata": {
        "colab": {
          "base_uri": "https://localhost:8080/",
          "height": 349
        },
        "id": "fFKDn1WJqCbp",
        "outputId": "2b4dd335-d5c5-4a9e-9754-2d3d3b6a9a26"
      },
      "source": [
        "# Change column names of monthly data\r\n",
        "month_df = month_df.rename(columns={'Wellbore name': 'NPD_WELL_BORE_NAME',\r\n",
        "                                  'NPDCode': 'NPD_WELL_BORE_CODE',\r\n",
        "                                  'On Stream': 'ON_STREAM_HRS',\r\n",
        "                                  })\r\n",
        "# Overview the dataframe\r\n",
        "month_df.head(10)"
      ],
      "execution_count": null,
      "outputs": [
        {
          "output_type": "execute_result",
          "data": {
            "text/html": [
              "<div>\n",
              "<style scoped>\n",
              "    .dataframe tbody tr th:only-of-type {\n",
              "        vertical-align: middle;\n",
              "    }\n",
              "\n",
              "    .dataframe tbody tr th {\n",
              "        vertical-align: top;\n",
              "    }\n",
              "\n",
              "    .dataframe thead th {\n",
              "        text-align: right;\n",
              "    }\n",
              "</style>\n",
              "<table border=\"1\" class=\"dataframe\">\n",
              "  <thead>\n",
              "    <tr style=\"text-align: right;\">\n",
              "      <th></th>\n",
              "      <th>NPD_WELL_BORE_NAME</th>\n",
              "      <th>NPD_WELL_BORE_CODE</th>\n",
              "      <th>Year</th>\n",
              "      <th>Month</th>\n",
              "      <th>ON_STREAM_HRS</th>\n",
              "      <th>Oil</th>\n",
              "      <th>Gas</th>\n",
              "      <th>Water</th>\n",
              "      <th>GI</th>\n",
              "      <th>WI</th>\n",
              "    </tr>\n",
              "  </thead>\n",
              "  <tbody>\n",
              "    <tr>\n",
              "      <th>0</th>\n",
              "      <td>15/9-F-1 C</td>\n",
              "      <td>7405</td>\n",
              "      <td>2014</td>\n",
              "      <td>4</td>\n",
              "      <td>227.50000</td>\n",
              "      <td>11142.47</td>\n",
              "      <td>1597936.65</td>\n",
              "      <td>0.00</td>\n",
              "      <td>NaN</td>\n",
              "      <td>NaN</td>\n",
              "    </tr>\n",
              "    <tr>\n",
              "      <th>1</th>\n",
              "      <td>15/9-F-1 C</td>\n",
              "      <td>7405</td>\n",
              "      <td>2014</td>\n",
              "      <td>5</td>\n",
              "      <td>733.83334</td>\n",
              "      <td>24901.95</td>\n",
              "      <td>3496229.65</td>\n",
              "      <td>783.48</td>\n",
              "      <td>NaN</td>\n",
              "      <td>NaN</td>\n",
              "    </tr>\n",
              "    <tr>\n",
              "      <th>2</th>\n",
              "      <td>15/9-F-1 C</td>\n",
              "      <td>7405</td>\n",
              "      <td>2014</td>\n",
              "      <td>6</td>\n",
              "      <td>705.91666</td>\n",
              "      <td>19617.76</td>\n",
              "      <td>2886661.69</td>\n",
              "      <td>2068.48</td>\n",
              "      <td>NaN</td>\n",
              "      <td>NaN</td>\n",
              "    </tr>\n",
              "    <tr>\n",
              "      <th>3</th>\n",
              "      <td>15/9-F-1 C</td>\n",
              "      <td>7405</td>\n",
              "      <td>2014</td>\n",
              "      <td>7</td>\n",
              "      <td>742.41666</td>\n",
              "      <td>15085.68</td>\n",
              "      <td>2249365.75</td>\n",
              "      <td>6243.98</td>\n",
              "      <td>NaN</td>\n",
              "      <td>NaN</td>\n",
              "    </tr>\n",
              "    <tr>\n",
              "      <th>4</th>\n",
              "      <td>15/9-F-1 C</td>\n",
              "      <td>7405</td>\n",
              "      <td>2014</td>\n",
              "      <td>8</td>\n",
              "      <td>432.99166</td>\n",
              "      <td>6970.43</td>\n",
              "      <td>1048190.80</td>\n",
              "      <td>4529.75</td>\n",
              "      <td>NaN</td>\n",
              "      <td>NaN</td>\n",
              "    </tr>\n",
              "    <tr>\n",
              "      <th>5</th>\n",
              "      <td>15/9-F-1 C</td>\n",
              "      <td>7405</td>\n",
              "      <td>2014</td>\n",
              "      <td>9</td>\n",
              "      <td>630.30000</td>\n",
              "      <td>9168.43</td>\n",
              "      <td>1414099.99</td>\n",
              "      <td>8317.59</td>\n",
              "      <td>NaN</td>\n",
              "      <td>NaN</td>\n",
              "    </tr>\n",
              "    <tr>\n",
              "      <th>6</th>\n",
              "      <td>15/9-F-1 C</td>\n",
              "      <td>7405</td>\n",
              "      <td>2014</td>\n",
              "      <td>10</td>\n",
              "      <td>745.00000</td>\n",
              "      <td>9468.06</td>\n",
              "      <td>1462063.99</td>\n",
              "      <td>10364.87</td>\n",
              "      <td>NaN</td>\n",
              "      <td>NaN</td>\n",
              "    </tr>\n",
              "    <tr>\n",
              "      <th>7</th>\n",
              "      <td>15/9-F-1 C</td>\n",
              "      <td>7405</td>\n",
              "      <td>2014</td>\n",
              "      <td>11</td>\n",
              "      <td>579.77500</td>\n",
              "      <td>6710.33</td>\n",
              "      <td>1044188.30</td>\n",
              "      <td>7234.24</td>\n",
              "      <td>NaN</td>\n",
              "      <td>NaN</td>\n",
              "    </tr>\n",
              "    <tr>\n",
              "      <th>8</th>\n",
              "      <td>15/9-F-1 C</td>\n",
              "      <td>7405</td>\n",
              "      <td>2014</td>\n",
              "      <td>12</td>\n",
              "      <td>27.50000</td>\n",
              "      <td>120.29</td>\n",
              "      <td>25857.08</td>\n",
              "      <td>183.44</td>\n",
              "      <td>NaN</td>\n",
              "      <td>NaN</td>\n",
              "    </tr>\n",
              "    <tr>\n",
              "      <th>9</th>\n",
              "      <td>15/9-F-1 C</td>\n",
              "      <td>7405</td>\n",
              "      <td>2015</td>\n",
              "      <td>1</td>\n",
              "      <td>479.91667</td>\n",
              "      <td>10875.53</td>\n",
              "      <td>1604934.60</td>\n",
              "      <td>6850.80</td>\n",
              "      <td>NaN</td>\n",
              "      <td>NaN</td>\n",
              "    </tr>\n",
              "  </tbody>\n",
              "</table>\n",
              "</div>"
            ],
            "text/plain": [
              "  NPD_WELL_BORE_NAME  NPD_WELL_BORE_CODE  Year  ...     Water  GI  WI\n",
              "0         15/9-F-1 C                7405  2014  ...      0.00 NaN NaN\n",
              "1         15/9-F-1 C                7405  2014  ...    783.48 NaN NaN\n",
              "2         15/9-F-1 C                7405  2014  ...   2068.48 NaN NaN\n",
              "3         15/9-F-1 C                7405  2014  ...   6243.98 NaN NaN\n",
              "4         15/9-F-1 C                7405  2014  ...   4529.75 NaN NaN\n",
              "5         15/9-F-1 C                7405  2014  ...   8317.59 NaN NaN\n",
              "6         15/9-F-1 C                7405  2014  ...  10364.87 NaN NaN\n",
              "7         15/9-F-1 C                7405  2014  ...   7234.24 NaN NaN\n",
              "8         15/9-F-1 C                7405  2014  ...    183.44 NaN NaN\n",
              "9         15/9-F-1 C                7405  2015  ...   6850.80 NaN NaN\n",
              "\n",
              "[10 rows x 10 columns]"
            ]
          },
          "metadata": {
            "tags": []
          },
          "execution_count": 97
        }
      ]
    },
    {
      "cell_type": "code",
      "metadata": {
        "colab": {
          "base_uri": "https://localhost:8080/"
        },
        "id": "1n937MuW3M7n",
        "outputId": "783871a8-9d54-4c8a-bdeb-c67fcfdcdfd5"
      },
      "source": [
        "daily_df.columns"
      ],
      "execution_count": null,
      "outputs": [
        {
          "output_type": "execute_result",
          "data": {
            "text/plain": [
              "Index(['DATEPRD', 'WELL_BORE_CODE', 'NPD_WELL_BORE_CODE', 'NPD_WELL_BORE_NAME',\n",
              "       'NPD_FIELD_CODE', 'NPD_FIELD_NAME', 'NPD_FACILITY_CODE',\n",
              "       'NPD_FACILITY_NAME', 'ON_STREAM_HRS', 'AVG_DOWNHOLE_PRESSURE',\n",
              "       'AVG_DOWNHOLE_TEMPERATURE', 'AVG_DP_TUBING', 'AVG_ANNULUS_PRESS',\n",
              "       'AVG_CHOKE_SIZE_P', 'AVG_CHOKE_UOM', 'AVG_WHP_P', 'AVG_WHT_P',\n",
              "       'DP_CHOKE_SIZE', 'BORE_OIL_VOL', 'BORE_GAS_VOL', 'BORE_WAT_VOL',\n",
              "       'BORE_WI_VOL', 'FLOW_KIND', 'WELL_TYPE'],\n",
              "      dtype='object')"
            ]
          },
          "metadata": {
            "tags": []
          },
          "execution_count": 8
        }
      ]
    },
    {
      "cell_type": "code",
      "metadata": {
        "id": "tjn017KdqtgL"
      },
      "source": [
        "def write_sql(df, datatype_array, table_name, script_name):\r\n",
        "  \"\"\"\r\n",
        "  Write an SQL script that writes a table\r\n",
        "\r\n",
        "  Input:\r\n",
        "\r\n",
        "  df: DataFrame to be transformed into SQL table\r\n",
        "  datatype_array: array of SQL datatypes with respect to each column name\r\n",
        "  table_name: name of SQL table that you want to produce\r\n",
        "  script_name: name of SQL script that you will feed to your database\r\n",
        "\r\n",
        "  Output:\r\n",
        "\r\n",
        "  SQL script with extension .sql\r\n",
        "  Also it prints the whole script \r\n",
        "  \"\"\"\r\n",
        "\r\n",
        "  import pandas as pd\r\n",
        "\r\n",
        "  # List the unique column names into array\r\n",
        "  columns = df.columns\r\n",
        "\r\n",
        "  # Write SQL script\r\n",
        "  sql_file = 'CREATE TABLE IF NOT EXISTS {} ( \\n'.format(table_name)\r\n",
        "  for i in range(len(columns)):\r\n",
        "    if i == len(columns)-1: # last column name without comma\r\n",
        "      sql_file += ' {} {} \\n'.format(columns[i], datatype[i])\r\n",
        "    else: # give commas\r\n",
        "      sql_file += ' {} {}, \\n'.format(columns[i], datatype[i])\r\n",
        "  sql_file += ');'\r\n",
        "\r\n",
        "  # Print the SQL script\r\n",
        "  print(sql_file)\r\n",
        "\r\n",
        "  # Write into an SQL file\r\n",
        "  inc_out = open(script_name + '.sql', 'w')\r\n",
        "  inc_out.write(sql_file)\r\n",
        "  inc_out.close() "
      ],
      "execution_count": null,
      "outputs": []
    },
    {
      "cell_type": "code",
      "metadata": {
        "colab": {
          "base_uri": "https://localhost:8080/"
        },
        "id": "xEn_lpcV_RFO",
        "outputId": "56fff291-d013-4137-8ae3-2c489d397fcb"
      },
      "source": [
        "month_df.columns"
      ],
      "execution_count": null,
      "outputs": [
        {
          "output_type": "execute_result",
          "data": {
            "text/plain": [
              "Index(['NPD_WELL_BORE_NAME', 'NPD_WELL_BORE_CODE', 'Year', 'Month',\n",
              "       'ON_STREAM_HRS', 'Oil', 'Gas', 'Water', 'GI', 'WI'],\n",
              "      dtype='object')"
            ]
          },
          "metadata": {
            "tags": []
          },
          "execution_count": 92
        }
      ]
    },
    {
      "cell_type": "code",
      "metadata": {
        "id": "S_7s_CFJ_asr"
      },
      "source": [
        "datatype_daily = ['TEXT', 'INTEGER', 'INTEGER', 'TEXT', \r\n",
        "                  'INTEGER', 'TEXT', 'INTEGER', \r\n",
        "                  'TEXT', 'REAL', 'REAL', 'REAL', \r\n",
        "                  'REAL', 'REAL', 'REAL', 'REAL', \r\n",
        "                  'REAL', 'REAL', 'REAL', 'REAL', 'REAL', \r\n",
        "                  'REAL', 'REAL', 'REAL', 'TEXT', 'TEXT']\r\n",
        "\r\n",
        "datatype_month = ['TEXT', 'INTEGER']"
      ],
      "execution_count": null,
      "outputs": []
    },
    {
      "cell_type": "code",
      "metadata": {
        "id": "5nQ7-UjX-1QF"
      },
      "source": [
        "# SQL script for the \"daily\" dataframe\r\n",
        "datatype = ['TEXT', 'INTEGER', 'INTEGER', 'TEXT', \r\n",
        "            'INTEGER', 'TEXT', 'INTEGER', \r\n",
        "            'TEXT', 'REAL', 'REAL', 'REAL', \r\n",
        "            'REAL', 'REAL', 'REAL', 'REAL', \r\n",
        "            'REAL', 'REAL', 'REAL', 'REAL', 'REAL', \r\n",
        "            'REAL', 'REAL', 'REAL', 'TEXT', 'TEXT']\r\n",
        "write_sql(daily_df, datatype, 'daily', 'create_table_daily')\r\n",
        "\r\n",
        "# SQL script for the \"daily\" dataframe\r\n",
        "# write_sql(month_df, datatype, 'daily', 'create_table_daily')"
      ],
      "execution_count": null,
      "outputs": []
    },
    {
      "cell_type": "code",
      "metadata": {
        "id": "05ieDTgLKv8x"
      },
      "source": [
        "db_conn = sqlite3.connect('Volve production data.db')\r\n",
        "\r\n",
        "c = db_conn.cursor()"
      ],
      "execution_count": null,
      "outputs": []
    },
    {
      "cell_type": "code",
      "metadata": {
        "colab": {
          "base_uri": "https://localhost:8080/"
        },
        "id": "XILtW_g78oUv",
        "outputId": "e4c6b31a-0a99-48f5-ecf6-3e1e73b132ff"
      },
      "source": [
        "%%writefile create_table.sql\r\n",
        "CREATE TABLE IF NOT EXISTS daily (\r\n",
        " DATEPRD TEXT,\r\n",
        " WELL_BORE_CODE INTEGER,\r\n",
        " NPD_WELL_BORE_CODE INTEGER,\r\n",
        " NPD_WELL_BORE_NAME TEXT,\r\n",
        " NPD_FIELD_CODE INTEGER,\r\n",
        " NPD_FIELD_NAME TEXT,\r\n",
        " NPD_FACILITY_CODE INTEGER,\r\n",
        " NPD_FACILITY_NAME TEXT,\r\n",
        " ON_STREAM_HRS REAL,\r\n",
        " AVG_DOWNHOLE_PRESSURE REAL,\r\n",
        " AVG_DOWNHOLE_TEMPERATURE REAL,\r\n",
        " AVG_DP_TUBING REAL,\r\n",
        " AVG_ANNULUS_PRESS REAL,\r\n",
        " AVG_CHOKE_SIZE_P REAL,\r\n",
        " AVG_CHOKE_UOM REAL,\r\n",
        " AVG_WHP_P REAL,\r\n",
        " AVG_WHT_P REAL,\r\n",
        " DP_CHOKE_SIZE REAL,\r\n",
        " BORE_OIL_VOL REAL,\r\n",
        " BORE_GAS_VOL REAL,\r\n",
        " BORE_WAT_VOL REAL,\r\n",
        " BORE_WI_VOL REAL,\r\n",
        " FLOW_KIND REAL,\r\n",
        " WELL_TYPE TEXT\r\n",
        ");"
      ],
      "execution_count": null,
      "outputs": [
        {
          "output_type": "stream",
          "text": [
            "Overwriting create_table.sql\n"
          ],
          "name": "stdout"
        }
      ]
    },
    {
      "cell_type": "code",
      "metadata": {
        "colab": {
          "base_uri": "https://localhost:8080/"
        },
        "id": "WRiqRCV-_CoP",
        "outputId": "e7c4585a-bd71-4f3f-cdb9-e456db453572"
      },
      "source": [
        "print(datatype)"
      ],
      "execution_count": null,
      "outputs": [
        {
          "output_type": "stream",
          "text": [
            "['TEXT', 'INTEGER', 'INTEGER', 'TEXT', 'INTEGER', 'TEXT', 'INTEGER', 'TEXT', 'REAL', 'REAL', 'REAL', 'REAL', 'REAL', 'REAL', 'REAL', 'REAL', 'REAL', 'REAL', 'REAL', 'REAL', 'REAL', 'REAL', 'REAL', 'TEXT', 'TEXT']\n"
          ],
          "name": "stdout"
        }
      ]
    },
    {
      "cell_type": "code",
      "metadata": {
        "id": "psW8_PG19SfN"
      },
      "source": [
        "!sqlite3 'Volve production data.db' < create_table.sql"
      ],
      "execution_count": null,
      "outputs": []
    },
    {
      "cell_type": "code",
      "metadata": {
        "id": "vfPsIwMD5etp"
      },
      "source": [
        "!sqlite3 'Volve production data.db' < create_table_daily.sql"
      ],
      "execution_count": null,
      "outputs": []
    },
    {
      "cell_type": "code",
      "metadata": {
        "id": "xuiOM9FC9e84"
      },
      "source": [
        "!sqlite3 c < create_table.sql"
      ],
      "execution_count": null,
      "outputs": []
    },
    {
      "cell_type": "code",
      "metadata": {
        "colab": {
          "base_uri": "https://localhost:8080/"
        },
        "id": "yiSCSxK9vl_K",
        "outputId": "202edf76-3a85-4351-a462-89bfafa64943"
      },
      "source": [
        "c.execute(\r\n",
        "    \"\"\"\r\n",
        "    CREATE TABLE IF NOT EXISTS monthly (\r\n",
        "      NPD_WELL_BORE_NAME TEXT,\r\n",
        "      NPD_WELL_BORE_CODE INTEGER,\r\n",
        "      Year INTEGER,\r\n",
        "      Month INTEGER,\r\n",
        "      ON_STREAM_HRS REAL,\r\n",
        "      Oil REAL,\r\n",
        "      Gas REAL,\r\n",
        "      Water REAL,\r\n",
        "      GI REAL,\r\n",
        "      WI REAL\r\n",
        "    );\r\n",
        "    \"\"\"\r\n",
        ")"
      ],
      "execution_count": null,
      "outputs": [
        {
          "output_type": "execute_result",
          "data": {
            "text/plain": [
              "<sqlite3.Cursor at 0x7f37e86c05e0>"
            ]
          },
          "metadata": {
            "tags": []
          },
          "execution_count": 10
        }
      ]
    },
    {
      "cell_type": "code",
      "metadata": {
        "id": "c7W8ODOpAlJM"
      },
      "source": [
        "month_df.to_sql('monthly', db_conn, if_exists='append', index=False)"
      ],
      "execution_count": null,
      "outputs": []
    },
    {
      "cell_type": "code",
      "metadata": {
        "id": "KB3EFQLzcgg4"
      },
      "source": [
        "daily_df.to_sql('daily', db_conn, if_exists='append', index=False)"
      ],
      "execution_count": null,
      "outputs": []
    },
    {
      "cell_type": "code",
      "metadata": {
        "colab": {
          "base_uri": "https://localhost:8080/",
          "height": 714
        },
        "id": "OAR3F5BNbpTD",
        "outputId": "4886872b-63a3-4f8d-fd72-7265e1bc5d66"
      },
      "source": [
        "pd.read_sql(\"SELECT * FROM daily LIMIT 10\", db_conn)"
      ],
      "execution_count": null,
      "outputs": [
        {
          "output_type": "execute_result",
          "data": {
            "text/html": [
              "<div>\n",
              "<style scoped>\n",
              "    .dataframe tbody tr th:only-of-type {\n",
              "        vertical-align: middle;\n",
              "    }\n",
              "\n",
              "    .dataframe tbody tr th {\n",
              "        vertical-align: top;\n",
              "    }\n",
              "\n",
              "    .dataframe thead th {\n",
              "        text-align: right;\n",
              "    }\n",
              "</style>\n",
              "<table border=\"1\" class=\"dataframe\">\n",
              "  <thead>\n",
              "    <tr style=\"text-align: right;\">\n",
              "      <th></th>\n",
              "      <th>DATEPRD</th>\n",
              "      <th>WELL_BORE_CODE</th>\n",
              "      <th>NPD_WELL_BORE_CODE</th>\n",
              "      <th>NPD_WELL_BORE_NAME</th>\n",
              "      <th>NPD_FIELD_CODE</th>\n",
              "      <th>NPD_FIELD_NAME</th>\n",
              "      <th>NPD_FACILITY_CODE</th>\n",
              "      <th>NPD_FACILITY_NAME</th>\n",
              "      <th>ON_STREAM_HRS</th>\n",
              "      <th>AVG_DOWNHOLE_PRESSURE</th>\n",
              "      <th>AVG_DOWNHOLE_TEMPERATURE</th>\n",
              "      <th>AVG_DP_TUBING</th>\n",
              "      <th>AVG_ANNULUS_PRESS</th>\n",
              "      <th>AVG_CHOKE_SIZE_P</th>\n",
              "      <th>AVG_CHOKE_UOM</th>\n",
              "      <th>AVG_WHP_P</th>\n",
              "      <th>AVG_WHT_P</th>\n",
              "      <th>DP_CHOKE_SIZE</th>\n",
              "      <th>BORE_OIL_VOL</th>\n",
              "      <th>BORE_GAS_VOL</th>\n",
              "      <th>BORE_WAT_VOL</th>\n",
              "      <th>BORE_WI_VOL</th>\n",
              "      <th>FLOW_KIND</th>\n",
              "      <th>WELL_TYPE</th>\n",
              "    </tr>\n",
              "  </thead>\n",
              "  <tbody>\n",
              "    <tr>\n",
              "      <th>0</th>\n",
              "      <td>2014-04-07 00:00:00</td>\n",
              "      <td>NO 15/9-F-1 C</td>\n",
              "      <td>7405</td>\n",
              "      <td>15/9-F-1 C</td>\n",
              "      <td>3420717</td>\n",
              "      <td>VOLVE</td>\n",
              "      <td>369304</td>\n",
              "      <td>MÆRSK INSPIRER</td>\n",
              "      <td>0.0</td>\n",
              "      <td>0.00000</td>\n",
              "      <td>0.00000</td>\n",
              "      <td>0.00000</td>\n",
              "      <td>0.0</td>\n",
              "      <td>0.000000</td>\n",
              "      <td>%</td>\n",
              "      <td>0.00000</td>\n",
              "      <td>0.00000</td>\n",
              "      <td>0.00000</td>\n",
              "      <td>0.0</td>\n",
              "      <td>0.0</td>\n",
              "      <td>0.0</td>\n",
              "      <td>None</td>\n",
              "      <td>production</td>\n",
              "      <td>WI</td>\n",
              "    </tr>\n",
              "    <tr>\n",
              "      <th>1</th>\n",
              "      <td>2014-04-08 00:00:00</td>\n",
              "      <td>NO 15/9-F-1 C</td>\n",
              "      <td>7405</td>\n",
              "      <td>15/9-F-1 C</td>\n",
              "      <td>3420717</td>\n",
              "      <td>VOLVE</td>\n",
              "      <td>369304</td>\n",
              "      <td>MÆRSK INSPIRER</td>\n",
              "      <td>0.0</td>\n",
              "      <td>NaN</td>\n",
              "      <td>NaN</td>\n",
              "      <td>NaN</td>\n",
              "      <td>0.0</td>\n",
              "      <td>1.003059</td>\n",
              "      <td>%</td>\n",
              "      <td>0.00000</td>\n",
              "      <td>0.00000</td>\n",
              "      <td>0.00000</td>\n",
              "      <td>0.0</td>\n",
              "      <td>0.0</td>\n",
              "      <td>0.0</td>\n",
              "      <td>None</td>\n",
              "      <td>production</td>\n",
              "      <td>OP</td>\n",
              "    </tr>\n",
              "    <tr>\n",
              "      <th>2</th>\n",
              "      <td>2014-04-09 00:00:00</td>\n",
              "      <td>NO 15/9-F-1 C</td>\n",
              "      <td>7405</td>\n",
              "      <td>15/9-F-1 C</td>\n",
              "      <td>3420717</td>\n",
              "      <td>VOLVE</td>\n",
              "      <td>369304</td>\n",
              "      <td>MÆRSK INSPIRER</td>\n",
              "      <td>0.0</td>\n",
              "      <td>NaN</td>\n",
              "      <td>NaN</td>\n",
              "      <td>NaN</td>\n",
              "      <td>0.0</td>\n",
              "      <td>0.979008</td>\n",
              "      <td>%</td>\n",
              "      <td>0.00000</td>\n",
              "      <td>0.00000</td>\n",
              "      <td>0.00000</td>\n",
              "      <td>0.0</td>\n",
              "      <td>0.0</td>\n",
              "      <td>0.0</td>\n",
              "      <td>None</td>\n",
              "      <td>production</td>\n",
              "      <td>OP</td>\n",
              "    </tr>\n",
              "    <tr>\n",
              "      <th>3</th>\n",
              "      <td>2014-04-10 00:00:00</td>\n",
              "      <td>NO 15/9-F-1 C</td>\n",
              "      <td>7405</td>\n",
              "      <td>15/9-F-1 C</td>\n",
              "      <td>3420717</td>\n",
              "      <td>VOLVE</td>\n",
              "      <td>369304</td>\n",
              "      <td>MÆRSK INSPIRER</td>\n",
              "      <td>0.0</td>\n",
              "      <td>NaN</td>\n",
              "      <td>NaN</td>\n",
              "      <td>NaN</td>\n",
              "      <td>0.0</td>\n",
              "      <td>0.545759</td>\n",
              "      <td>%</td>\n",
              "      <td>0.00000</td>\n",
              "      <td>0.00000</td>\n",
              "      <td>0.00000</td>\n",
              "      <td>0.0</td>\n",
              "      <td>0.0</td>\n",
              "      <td>0.0</td>\n",
              "      <td>None</td>\n",
              "      <td>production</td>\n",
              "      <td>OP</td>\n",
              "    </tr>\n",
              "    <tr>\n",
              "      <th>4</th>\n",
              "      <td>2014-04-11 00:00:00</td>\n",
              "      <td>NO 15/9-F-1 C</td>\n",
              "      <td>7405</td>\n",
              "      <td>15/9-F-1 C</td>\n",
              "      <td>3420717</td>\n",
              "      <td>VOLVE</td>\n",
              "      <td>369304</td>\n",
              "      <td>MÆRSK INSPIRER</td>\n",
              "      <td>0.0</td>\n",
              "      <td>310.37614</td>\n",
              "      <td>96.87589</td>\n",
              "      <td>277.27826</td>\n",
              "      <td>0.0</td>\n",
              "      <td>1.215987</td>\n",
              "      <td>%</td>\n",
              "      <td>33.09788</td>\n",
              "      <td>10.47992</td>\n",
              "      <td>33.07195</td>\n",
              "      <td>0.0</td>\n",
              "      <td>0.0</td>\n",
              "      <td>0.0</td>\n",
              "      <td>None</td>\n",
              "      <td>production</td>\n",
              "      <td>OP</td>\n",
              "    </tr>\n",
              "    <tr>\n",
              "      <th>5</th>\n",
              "      <td>2014-04-12 00:00:00</td>\n",
              "      <td>NO 15/9-F-1 C</td>\n",
              "      <td>7405</td>\n",
              "      <td>15/9-F-1 C</td>\n",
              "      <td>3420717</td>\n",
              "      <td>VOLVE</td>\n",
              "      <td>369304</td>\n",
              "      <td>MÆRSK INSPIRER</td>\n",
              "      <td>0.0</td>\n",
              "      <td>303.50078</td>\n",
              "      <td>96.92339</td>\n",
              "      <td>281.44744</td>\n",
              "      <td>0.0</td>\n",
              "      <td>3.087015</td>\n",
              "      <td>%</td>\n",
              "      <td>22.05334</td>\n",
              "      <td>8.70429</td>\n",
              "      <td>22.05334</td>\n",
              "      <td>0.0</td>\n",
              "      <td>0.0</td>\n",
              "      <td>0.0</td>\n",
              "      <td>None</td>\n",
              "      <td>production</td>\n",
              "      <td>OP</td>\n",
              "    </tr>\n",
              "    <tr>\n",
              "      <th>6</th>\n",
              "      <td>2014-04-13 00:00:00</td>\n",
              "      <td>NO 15/9-F-1 C</td>\n",
              "      <td>7405</td>\n",
              "      <td>15/9-F-1 C</td>\n",
              "      <td>3420717</td>\n",
              "      <td>VOLVE</td>\n",
              "      <td>369304</td>\n",
              "      <td>MÆRSK INSPIRER</td>\n",
              "      <td>0.0</td>\n",
              "      <td>303.53481</td>\n",
              "      <td>96.95885</td>\n",
              "      <td>276.03200</td>\n",
              "      <td>0.0</td>\n",
              "      <td>1.962365</td>\n",
              "      <td>%</td>\n",
              "      <td>27.50281</td>\n",
              "      <td>9.42315</td>\n",
              "      <td>16.16326</td>\n",
              "      <td>0.0</td>\n",
              "      <td>0.0</td>\n",
              "      <td>0.0</td>\n",
              "      <td>None</td>\n",
              "      <td>production</td>\n",
              "      <td>OP</td>\n",
              "    </tr>\n",
              "    <tr>\n",
              "      <th>7</th>\n",
              "      <td>2014-04-14 00:00:00</td>\n",
              "      <td>NO 15/9-F-1 C</td>\n",
              "      <td>7405</td>\n",
              "      <td>15/9-F-1 C</td>\n",
              "      <td>3420717</td>\n",
              "      <td>VOLVE</td>\n",
              "      <td>369304</td>\n",
              "      <td>MÆRSK INSPIRER</td>\n",
              "      <td>0.0</td>\n",
              "      <td>303.78228</td>\n",
              "      <td>96.96873</td>\n",
              "      <td>282.78676</td>\n",
              "      <td>0.0</td>\n",
              "      <td>0.000000</td>\n",
              "      <td>%</td>\n",
              "      <td>20.99552</td>\n",
              "      <td>8.13137</td>\n",
              "      <td>20.73712</td>\n",
              "      <td>0.0</td>\n",
              "      <td>0.0</td>\n",
              "      <td>0.0</td>\n",
              "      <td>None</td>\n",
              "      <td>production</td>\n",
              "      <td>OP</td>\n",
              "    </tr>\n",
              "    <tr>\n",
              "      <th>8</th>\n",
              "      <td>2014-04-15 00:00:00</td>\n",
              "      <td>NO 15/9-F-1 C</td>\n",
              "      <td>7405</td>\n",
              "      <td>15/9-F-1 C</td>\n",
              "      <td>3420717</td>\n",
              "      <td>VOLVE</td>\n",
              "      <td>369304</td>\n",
              "      <td>MÆRSK INSPIRER</td>\n",
              "      <td>0.0</td>\n",
              "      <td>303.85821</td>\n",
              "      <td>97.02136</td>\n",
              "      <td>289.94067</td>\n",
              "      <td>0.0</td>\n",
              "      <td>31.141856</td>\n",
              "      <td>%</td>\n",
              "      <td>13.91754</td>\n",
              "      <td>8.49833</td>\n",
              "      <td>12.18153</td>\n",
              "      <td>0.0</td>\n",
              "      <td>0.0</td>\n",
              "      <td>0.0</td>\n",
              "      <td>None</td>\n",
              "      <td>production</td>\n",
              "      <td>OP</td>\n",
              "    </tr>\n",
              "    <tr>\n",
              "      <th>9</th>\n",
              "      <td>2014-04-16 00:00:00</td>\n",
              "      <td>NO 15/9-F-1 C</td>\n",
              "      <td>7405</td>\n",
              "      <td>15/9-F-1 C</td>\n",
              "      <td>3420717</td>\n",
              "      <td>VOLVE</td>\n",
              "      <td>369304</td>\n",
              "      <td>MÆRSK INSPIRER</td>\n",
              "      <td>0.0</td>\n",
              "      <td>303.79187</td>\n",
              "      <td>97.06569</td>\n",
              "      <td>299.67193</td>\n",
              "      <td>0.0</td>\n",
              "      <td>0.000000</td>\n",
              "      <td>%</td>\n",
              "      <td>4.11994</td>\n",
              "      <td>8.82124</td>\n",
              "      <td>1.49020</td>\n",
              "      <td>0.0</td>\n",
              "      <td>0.0</td>\n",
              "      <td>0.0</td>\n",
              "      <td>None</td>\n",
              "      <td>production</td>\n",
              "      <td>OP</td>\n",
              "    </tr>\n",
              "  </tbody>\n",
              "</table>\n",
              "</div>"
            ],
            "text/plain": [
              "               DATEPRD WELL_BORE_CODE  ...   FLOW_KIND WELL_TYPE\n",
              "0  2014-04-07 00:00:00  NO 15/9-F-1 C  ...  production        WI\n",
              "1  2014-04-08 00:00:00  NO 15/9-F-1 C  ...  production        OP\n",
              "2  2014-04-09 00:00:00  NO 15/9-F-1 C  ...  production        OP\n",
              "3  2014-04-10 00:00:00  NO 15/9-F-1 C  ...  production        OP\n",
              "4  2014-04-11 00:00:00  NO 15/9-F-1 C  ...  production        OP\n",
              "5  2014-04-12 00:00:00  NO 15/9-F-1 C  ...  production        OP\n",
              "6  2014-04-13 00:00:00  NO 15/9-F-1 C  ...  production        OP\n",
              "7  2014-04-14 00:00:00  NO 15/9-F-1 C  ...  production        OP\n",
              "8  2014-04-15 00:00:00  NO 15/9-F-1 C  ...  production        OP\n",
              "9  2014-04-16 00:00:00  NO 15/9-F-1 C  ...  production        OP\n",
              "\n",
              "[10 rows x 24 columns]"
            ]
          },
          "metadata": {
            "tags": []
          },
          "execution_count": 81
        }
      ]
    }
  ]
}